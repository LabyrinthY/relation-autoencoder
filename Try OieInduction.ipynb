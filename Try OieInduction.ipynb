{
 "cells": [
  {
   "cell_type": "code",
   "execution_count": 1,
   "metadata": {},
   "outputs": [
    {
     "name": "stdout",
     "output_type": "stream",
     "text": [
      "\u001b[0m\u001b[01;32mdata-sample.txt\u001b[0m*  __init__.py   main.py      sample.pk  Untitled.ipynb\r\n",
      "\u001b[01;34mdefinitions\u001b[0m/      __init__.pyc  main.pyc     tags\r\n",
      "dev.pk            \u001b[01;34mlearning\u001b[0m/     \u001b[01;34mprocessing\u001b[0m/  test.pk\r\n",
      "\u001b[01;34mevaluation\u001b[0m/       LICENSE.txt   README.md    train.pk\r\n"
     ]
    }
   ],
   "source": [
    "ls"
   ]
  },
  {
   "cell_type": "markdown",
   "metadata": {},
   "source": [
    "python learning/OieInduction.py --pickled_dataset sample.pk --model_name discrete-autoencoder --model AC --optimization 1 --epochs 10 --batch_size 100 --relations_number 10 --negative_samples_number 5 --l2_regularization 0.1 --alpha 0.1 --seed 2 --embed_size 10 --learning_rate 0.1\n"
   ]
  },
  {
   "cell_type": "markdown",
   "metadata": {},
   "source": [
    "help funcs "
   ]
  },
  {
   "cell_type": "code",
   "execution_count": 22,
   "metadata": {
    "collapsed": true
   },
   "outputs": [],
   "source": [
    "def print_dict(tmp_dict):\n",
    "    for item in tmp_dict:\n",
    "        print \"{:30s} : {:10s}\".format(item, str(tmp_dict[item]))"
   ]
  },
  {
   "cell_type": "code",
   "execution_count": 56,
   "metadata": {
    "collapsed": true,
    "scrolled": true
   },
   "outputs": [],
   "source": [
    "import argparse\n",
    "import os\n",
    "\n",
    "import numpy as np\n",
    "\n",
    "import sys\n",
    "import time\n",
    "import cPickle as pickle\n",
    "import operator\n",
    "from theano import sparse\n",
    "import theano\n",
    "import theano.tensor as T\n",
    "from learning.OieModel import OieModelFunctions\n",
    "\n",
    "from learning.OieData import DataSetManager\n",
    "from learning.OieData import MatrixDataSet\n",
    "from processing.OiePreprocessor import FeatureLexicon\n",
    "from evaluation.OieEvaluation import singleLabelClusterEvaluation\n",
    "import definitions.settings as settings\n",
    "from learning.NegativeExampleGenerator import NegativeExampleGenerator\n",
    "from collections import OrderedDict\n",
    "\n",
    "import math"
   ]
  },
  {
   "cell_type": "code",
   "execution_count": 3,
   "metadata": {
    "collapsed": true
   },
   "outputs": [],
   "source": [
    "from learning.OieInduction import loadData"
   ]
  },
  {
   "cell_type": "markdown",
   "metadata": {},
   "source": [
    "# dataset"
   ]
  },
  {
   "cell_type": "markdown",
   "metadata": {},
   "source": [
    " dataset format"
   ]
  },
  {
   "cell_type": "markdown",
   "metadata": {},
   "source": [
    "The file must be tab-separated an with the following fields:\n",
    "\n",
    " - lexicalized dependency path between arguments (entities) of the relation,  \n",
    " - first entity  \n",
    " - second entity  \n",
    " - entity types of the first and second entity  \n",
    " - trigger word  \n",
    " - id of the sentence  \n",
    " - raw sentence  \n",
    " - pos tags of the entire sentence  \n",
    " - relation between the two entities if any (used only for evaluation)"
   ]
  },
  {
   "cell_type": "markdown",
   "metadata": {},
   "source": [
    "The dataset pickle file format:\n",
    "```python\n",
    "pickle.dump(featureExtrs, pklFile, protocol=pklProtocol)\n",
    "\n",
    "pickle.dump(relationLexicon, pklFile, protocol=pklProtocol)\n",
    "\n",
    "pickle.dump(dataset, pklFile, protocol=pklProtocol)\n",
    "\n",
    "pickle.dump(goldstandard, pklFile, protocol=pklProtocol)\n",
    "```"
   ]
  },
  {
   "cell_type": "code",
   "execution_count": 42,
   "metadata": {
    "collapsed": true
   },
   "outputs": [],
   "source": [
    "def getFeatures(lexicon, featureExs, info, arg1=None, arg2=None, expand=False):\n",
    "    \"\"\"\n",
    "    getFeatures(relationLexicon, featureExtrs, [re[1], re[4], re[5], re[7], re[8], re[6]],\n",
    "                                                             re[2], re[3], True)\n",
    "    :param lexicon: FeatureLexicon instance, init empty(default constructor) \n",
    "    :param featureExs: feature exactors\n",
    "    :param info: features except entity\n",
    "    :param arg1: entity1\n",
    "    :param arg2: entity2\n",
    "    :param expand: \n",
    "    :return: \n",
    "    \"\"\"\n",
    "    feats = []\n",
    "    for f in featureExs:\n",
    "        res = f(info, arg1, arg2)\n",
    "        if res is not None:\n",
    "            if type(res) == list:\n",
    "                for el in res:\n",
    "                    featStrId = f.__name__ + \"#\" + el\n",
    "                    if expand:\n",
    "                        feats.append(lexicon.getOrAdd(featStrId))\n",
    "                    else:\n",
    "                        featId = lexicon.getId(featStrId)\n",
    "                        if featId is not None:\n",
    "                            feats.append(featId)\n",
    "            else:\n",
    "                featStrId = f.__name__ + \"#\" + res\n",
    "                if expand:\n",
    "                    feats.append(lexicon.getOrAdd(featStrId))\n",
    "                else:\n",
    "                    featId = lexicon.getId(featStrId)\n",
    "                    if featId is not None:\n",
    "                        feats.append(featId)\n",
    "\n",
    "    return feats"
   ]
  },
  {
   "cell_type": "markdown",
   "metadata": {},
   "source": [
    "```python\n",
    "if args.features == \"basic\":\n",
    "    print \"Using rich features\"\n",
    "```\n",
    "rich(`\"basic\"`, seems the only choice) feature format:\n",
    "```python\n",
    "features = [trigger, entityTypes, arg1_lower, arg2_lower, bow_clean, entity1Type, entity2Type, lexicalPattern,\n",
    "                posPatternPath]\n",
    "```"
   ]
  },
  {
   "cell_type": "markdown",
   "metadata": {},
   "source": [
    "# Generate and print args"
   ]
  },
  {
   "cell_type": "code",
   "execution_count": 4,
   "metadata": {
    "collapsed": true
   },
   "outputs": [],
   "source": [
    "def getCommandArgs():\n",
    "    parser = argparse.ArgumentParser(description='Trains a basic Open Information Extraction Model')\n",
    "\n",
    "    parser.add_argument('--pickled_dataset', metavar='pickled_dataset', nargs='?', required=True,\n",
    "                        help='the pickled dataset file (produced by OiePreprocessor.py)')\n",
    "\n",
    "    parser.add_argument('--epochs', metavar='epochs', nargs='?', type=int, default=100,\n",
    "                        help='maximum number of epochs')\n",
    "\n",
    "    parser.add_argument('--learning_rate', metavar='learning_rate', nargs='?', type=float, default=0.1,\n",
    "                        help='initial learning rate')\n",
    "\n",
    "    parser.add_argument('--batch_size', metavar='batch_size', nargs='?', type=int, default=50,\n",
    "                        help='size of the minibatches')\n",
    "\n",
    "    parser.add_argument('--embed_size', metavar='embed_size', nargs='?', type=int, default=30,\n",
    "                        help='initial learning rate')\n",
    "\n",
    "    parser.add_argument('--relations_number', metavar='relations_number', type=int, nargs='?', default=3,\n",
    "                        help='number of relations to induce')\n",
    "\n",
    "    parser.add_argument('--negative_samples_number', metavar='negative_samples_number', nargs='?', type=int, default=5,\n",
    "                        help='number of negative samples')\n",
    "\n",
    "    parser.add_argument('--l1_regularization', metavar='l1_regularization', nargs='?', type=float, default=0.0,\n",
    "                        help='lambda value of L1 regulatization')\n",
    "\n",
    "    parser.add_argument('--l2_regularization', metavar='l2_regularization', nargs='?', type=float, default=0.0,\n",
    "                        help='lambda value of L2 regulatization')\n",
    "\n",
    "    parser.add_argument('--optimization', metavar='optimization', nargs='?', type=int, default='0',\n",
    "                        help='optimization algorithm 0 SGD, 1 ADAGrad, 2 ADADelta. Default SDG.')\n",
    "\n",
    "    parser.add_argument('--model_name', metavar='model_name', nargs='?', required=True, type=str,\n",
    "                        help='Name or ID of the model')\n",
    "\n",
    "    parser.add_argument('--model', metavar='model', nargs='?', type=str, required=True,\n",
    "                        help='Model Type choose among A, C, AC.')\n",
    "\n",
    "    parser.add_argument('--fixed_sampling', metavar='fixed_sampling', nargs='?', default='False',\n",
    "                        help='fixed/dynamic sampling switch, default fixed sampling')\n",
    "\n",
    "    parser.add_argument('--ext_emb', metavar='ext_emb', nargs='?', default='False',\n",
    "                        help='external embeddings, default False')\n",
    "\n",
    "    parser.add_argument('--extended_reg', metavar='extended_reg', nargs='?', default='False',\n",
    "                        help='extended regularization on reconstruction parameters, default False')\n",
    "\n",
    "    parser.add_argument('--frequent_eval', metavar='frequent_eval', nargs='?', default='False',\n",
    "                        help='using frequent evaluation, default False')\n",
    "\n",
    "    parser.add_argument('--seed', metavar='seed', nargs='?', type=int, default=2,\n",
    "                        help='random seed, default 2')\n",
    "\n",
    "    parser.add_argument('--alpha', metavar='alpha', nargs='?', type=float, default=1.0,\n",
    "                        help='alpha coefficient for scaling the entropy term')\n",
    "\n",
    "\n",
    "    return parser.parse_args(arg_str.split(' '))\n",
    "\n",
    "def print_args(args):\n",
    "    tmp_dict = vars(args)\n",
    "    for item in tmp_dict:\n",
    "        print \"{:30s} : {:10s}\".format(item, str(tmp_dict[item]))"
   ]
  },
  {
   "cell_type": "code",
   "execution_count": 5,
   "metadata": {
    "collapsed": true
   },
   "outputs": [],
   "source": [
    "arg_str ='--pickled_dataset train.pk --model_name discrete-autoencoder \\\n",
    "--model AC --optimization 1 --epochs 10 --batch_size 100 --relations_number 10 \\\n",
    "--negative_samples_number 5 --l2_regularization 0.1 --alpha 0.1 --seed 2 --embed_size 10 --learning_rate 0.1'"
   ]
  },
  {
   "cell_type": "code",
   "execution_count": 6,
   "metadata": {
    "scrolled": true
   },
   "outputs": [
    {
     "name": "stdout",
     "output_type": "stream",
     "text": [
      "negative_samples_number        : 5         \n",
      "frequent_eval                  : False     \n",
      "embed_size                     : 10        \n",
      "extended_reg                   : False     \n",
      "l2_regularization              : 0.1       \n",
      "learning_rate                  : 0.1       \n",
      "fixed_sampling                 : False     \n",
      "batch_size                     : 100       \n",
      "model_name                     : discrete-autoencoder\n",
      "epochs                         : 10        \n",
      "optimization                   : 1         \n",
      "alpha                          : 0.1       \n",
      "seed                           : 2         \n",
      "relations_number               : 10        \n",
      "model                          : AC        \n",
      "ext_emb                        : False     \n",
      "pickled_dataset                : train.pk  \n",
      "l1_regularization              : 0.0       \n"
     ]
    }
   ],
   "source": [
    "args = getCommandArgs()\n",
    "print_args(args)"
   ]
  },
  {
   "cell_type": "markdown",
   "metadata": {},
   "source": [
    "Translate arguments"
   ]
  },
  {
   "cell_type": "code",
   "execution_count": 7,
   "metadata": {
    "scrolled": true
   },
   "outputs": [
    {
     "name": "stdout",
     "output_type": "stream",
     "text": [
      "Found existing pickled dataset, loading... Done (0.0459129810333s.)\n",
      "Produced indexed dataset\n"
     ]
    }
   ],
   "source": [
    "\n",
    "rseed = args.seed\n",
    "rand = np.random.RandomState(seed=rseed)\n",
    "\n",
    "\n",
    "negativeSamples = args.negative_samples_number\n",
    "numberRelations = args.relations_number\n",
    "indexedData, goldStandard = loadData(args, rand, negativeSamples, numberRelations, args.model)\n",
    "\n",
    "\n",
    "maxEpochs = args.epochs\n",
    "learningRate = args.learning_rate\n",
    "batchSize = args.batch_size\n",
    "embedSize = args.embed_size\n",
    "lambdaL1 = args.l1_regularization\n",
    "lambdaL2 = args.l2_regularization\n",
    "optimization = args.optimization\n",
    "modelName = args.model_name\n",
    "model = args.model\n",
    "fixedSampling = eval(args.fixed_sampling)\n",
    "extEmb = eval(args.ext_emb)\n",
    "extendedReg = eval(args.extended_reg)\n",
    "frequentEval = eval(args.frequent_eval)\n",
    "alpha = args.alpha\n",
    "    "
   ]
  },
  {
   "cell_type": "code",
   "execution_count": 47,
   "metadata": {
    "scrolled": true
   },
   "outputs": [
    {
     "data": {
      "text/plain": [
       "['/business/person/company']"
      ]
     },
     "execution_count": 47,
     "metadata": {},
     "output_type": "execute_result"
    }
   ],
   "source": [
    "goldStandard['train'][4] # goldStandard is the relation between the two entities if any (used only for evaluation)"
   ]
  },
  {
   "cell_type": "code",
   "execution_count": 25,
   "metadata": {},
   "outputs": [
    {
     "data": {
      "text/plain": [
       "['id2Arg',\n",
       " 'negSamplesNum',\n",
       " 'validExs',\n",
       " 'featureLex',\n",
       " 'rng',\n",
       " 'negSamplingDistr',\n",
       " 'negSamplingCum',\n",
       " 'arg2Id',\n",
       " 'testExs',\n",
       " 'relationNum',\n",
       " 'trainExs',\n",
       " 'negSamplingDistrPower']"
      ]
     },
     "execution_count": 25,
     "metadata": {},
     "output_type": "execute_result"
    }
   ],
   "source": [
    "#indexedData # is an instance of OieData.DataSetManager\n",
    "vars(indexedData).keys()"
   ]
  },
  {
   "cell_type": "code",
   "execution_count": 34,
   "metadata": {},
   "outputs": [
    {
     "name": "stdout",
     "output_type": "stream",
     "text": [
      "5\n",
      "1476 [ 0.00067751  0.00135501  0.00203252]\n",
      "1476 [0.0006775067750677507, 0.0006775067750677507, 0.0006775067750677507]\n",
      "False\n"
     ]
    }
   ],
   "source": [
    "print indexedData.negSamplesNum\n",
    "print len(indexedData.negSamplingCum), indexedData.negSamplingCum[:3]\n",
    "print len(indexedData.negSamplingDistr), indexedData.negSamplingDistr[:3]\n",
    "print indexedData.negSamplingDistrPower"
   ]
  },
  {
   "cell_type": "code",
   "execution_count": 38,
   "metadata": {
    "scrolled": true
   },
   "outputs": [
    {
     "name": "stdout",
     "output_type": "stream",
     "text": [
      "<learning.OieData.MatrixDataSet instance at 0x7ffb39f29b00>\n",
      "<processing.OiePreprocessor.FeatureLexicon instance at 0x7ffb3a2312d8>\n"
     ]
    }
   ],
   "source": [
    "print indexedData.trainExs\n",
    "print indexedData.featureLex\n"
   ]
  },
  {
   "cell_type": "code",
   "execution_count": null,
   "metadata": {
    "collapsed": true
   },
   "outputs": [],
   "source": [
    "inducer = ReconstructInducer(indexedData, goldStandard, rand, maxEpochs, learningRate,\n",
    "                                 batchSize, embedSize, lambdaL1, lambdaL2, optimization, modelName,\n",
    "                                 model, fixedSampling, extEmb, extendedReg,\n",
    "                                 frequentEval, alpha)\n",
    "\n",
    "\n",
    "\n",
    "inducer.learn()\n",
    "\n",
    "saveModel(inducer, inducer.modelName)"
   ]
  },
  {
   "cell_type": "markdown",
   "metadata": {
    "collapsed": true
   },
   "source": [
    "bilinear"
   ]
  },
  {
   "cell_type": "code",
   "execution_count": 72,
   "metadata": {},
   "outputs": [
    {
     "data": {
      "text/plain": [
       "array([10, 10,  3])"
      ]
     },
     "execution_count": 72,
     "metadata": {},
     "output_type": "execute_result"
    }
   ],
   "source": [
    "k = 10\n",
    "r = 3\n",
    "l=2\n",
    "CNP = np.asarray(np.random.RandomState().normal(0, math.sqrt(0.1), size=(k, k, r)), dtype=theano.config.floatX)\n",
    "C = theano.shared(value=CNP, name='C')\n",
    "C.shape.eval()"
   ]
  },
  {
   "cell_type": "code",
   "execution_count": 70,
   "metadata": {},
   "outputs": [
    {
     "data": {
      "text/plain": [
       "array([2, 3])"
      ]
     },
     "execution_count": 70,
     "metadata": {},
     "output_type": "execute_result"
    }
   ],
   "source": [
    "relationProbs = theano.shared(value=np.random.uniform(-1,1, size=(l,r)))\n",
    "relationProbs.shape.eval()"
   ]
  },
  {
   "cell_type": "markdown",
   "metadata": {},
   "source": [
    "[theano.tensor.tensordot(a, b, axes=2)](http://deeplearning.net/software/theano/library/tensor/basic.html#theano.tensor.tensordot)"
   ]
  },
  {
   "cell_type": "code",
   "execution_count": 71,
   "metadata": {},
   "outputs": [
    {
     "data": {
      "text/plain": [
       "array([ 2, 10, 10])"
      ]
     },
     "execution_count": 71,
     "metadata": {},
     "output_type": "execute_result"
    }
   ],
   "source": [
    "weightedC =  T.tensordot(relationProbs, C, axes=[[1], [2]])\n",
    "weightedC.shape.eval()"
   ]
  },
  {
   "cell_type": "code",
   "execution_count": 79,
   "metadata": {},
   "outputs": [
    {
     "data": {
      "text/plain": [
       "array([ 2, 10, 10])"
      ]
     },
     "execution_count": 79,
     "metadata": {},
     "output_type": "execute_result"
    }
   ],
   "source": [
    "weightedC =  T.tensordot(relationProbs, C, axes=[1, 2])\n",
    "weightedC.shape.eval()"
   ]
  },
  {
   "cell_type": "code",
   "execution_count": 83,
   "metadata": {},
   "outputs": [
    {
     "data": {
      "text/plain": [
       "array([[[-0.19643936,  0.25088526,  0.57943667,  0.03133863,  0.09427508,\n",
       "         -0.32775344, -0.65652997,  0.54491739, -0.31400022,  0.28638132],\n",
       "        [-0.47453282,  0.10298775,  0.1547721 ,  0.33376603,  0.30034181,\n",
       "          0.08964199, -0.02687997,  0.87426918, -0.06869016, -0.03524135],\n",
       "        [-0.1507614 , -0.11883169,  0.40393753,  0.1291806 , -0.54979161,\n",
       "          0.12699997, -0.61374271, -0.75150129,  0.18600192, -0.07282533],\n",
       "        [-0.02386466, -0.34757225, -0.3456204 ,  0.09405429, -0.02169877,\n",
       "          0.0115029 , -0.39101972,  0.28131281,  0.33095768, -0.35994541],\n",
       "        [-0.08555028,  0.03948802,  0.72914642,  0.6478329 , -0.12104071,\n",
       "          0.07942496, -0.04083342,  0.14345074, -0.16114565, -0.41964862],\n",
       "        [-0.37120575, -0.59553759, -0.36126464, -0.32453138,  0.13597388,\n",
       "         -0.45941704,  0.02970613,  0.57329973, -0.40394109, -0.3151888 ],\n",
       "        [-0.1985653 , -0.1570031 ,  0.79700552, -0.16773015,  0.62983734,\n",
       "         -0.19221588,  0.12783947, -0.12757269,  0.24363188, -0.43474874],\n",
       "        [-0.00194521,  0.28466712, -0.28893472,  0.38917297,  0.27077188,\n",
       "         -0.07953898, -0.36024484, -0.59136301, -0.15596587,  0.29399337],\n",
       "        [ 0.56453372,  0.20443074, -0.61340672, -0.62996886,  0.62064749,\n",
       "          0.58931171,  0.29121604,  0.29054617,  0.3674878 ,  0.26639621],\n",
       "        [-0.13310988,  0.19251068, -0.4179093 , -0.29855706, -0.12398748,\n",
       "          0.77299618, -0.29846999, -0.37877404, -0.22641593,  0.90396724]],\n",
       "\n",
       "       [[-0.41206813,  0.40463595,  0.0144786 ,  0.22183285, -0.09630465,\n",
       "         -0.20372704, -0.494789  ,  0.02486622, -0.06326406,  0.23565094],\n",
       "        [-0.226806  ,  0.01604977, -0.0791202 ,  0.31856122,  0.3309838 ,\n",
       "          0.12859171,  0.12568633,  0.27362162,  0.21888593,  0.02360572],\n",
       "        [ 0.1031943 ,  0.19111716,  0.33715079, -0.27538563, -0.3205838 ,\n",
       "          0.13158462, -0.18533421, -0.71187275, -0.08485288,  0.29694246],\n",
       "        [ 0.22256631,  0.04967489, -0.05437689,  0.15786043,  0.09102614,\n",
       "         -0.19523887, -0.09379228,  0.30588179,  0.16617701, -0.28416368],\n",
       "        [-0.01459674,  0.05724259,  0.57234948,  0.31503143, -0.18709842,\n",
       "          0.1383673 , -0.14364027,  0.0023349 , -0.13139401,  0.0737147 ],\n",
       "        [-0.02801903, -0.17404464, -0.09079038, -0.13505525, -0.16511045,\n",
       "          0.05653724, -0.08003075,  0.01763452, -0.11194881,  0.12466124],\n",
       "        [-0.11416068, -0.04267615,  0.22421471, -0.19406485,  0.34660538,\n",
       "         -0.17375622,  0.07337347, -0.0156169 ,  0.27443165, -0.06283461],\n",
       "        [ 0.1327474 ,  0.07503695, -0.10600757,  0.10018004,  0.07221789,\n",
       "         -0.09797407,  0.11804207,  0.19914879, -0.389835  , -0.15438125],\n",
       "        [ 0.16714889,  0.27799214, -0.08584271, -0.16181198,  0.05619172,\n",
       "          0.32326688,  0.0094013 ,  0.1594889 ,  0.25898773,  0.09850017],\n",
       "        [-0.12221987, -0.00354602, -0.53054549, -0.03282247, -0.11869217,\n",
       "          0.1375009 , -0.07741603, -0.17009496, -0.11915552,  0.79312515]]])"
      ]
     },
     "execution_count": 83,
     "metadata": {},
     "output_type": "execute_result"
    }
   ],
   "source": [
    "rlp_np = np.random.uniform(-1,1, size=(l,r))\n",
    "np.tensordot(rlp_np, CNP, axes=[[1],[2]])"
   ]
  },
  {
   "cell_type": "code",
   "execution_count": 85,
   "metadata": {},
   "outputs": [
    {
     "data": {
      "text/plain": [
       "array([[[ 0.,  0.,  0.,  0.,  0.,  0.,  0.,  0.,  0.,  0.],\n",
       "        [ 0.,  0.,  0.,  0.,  0.,  0.,  0.,  0.,  0.,  0.],\n",
       "        [ 0.,  0.,  0.,  0.,  0.,  0.,  0.,  0.,  0.,  0.],\n",
       "        [ 0.,  0.,  0.,  0.,  0.,  0.,  0.,  0.,  0.,  0.],\n",
       "        [ 0.,  0.,  0.,  0.,  0.,  0.,  0.,  0.,  0.,  0.],\n",
       "        [ 0.,  0.,  0.,  0.,  0.,  0.,  0.,  0.,  0.,  0.],\n",
       "        [ 0.,  0.,  0.,  0.,  0.,  0.,  0.,  0.,  0.,  0.],\n",
       "        [ 0.,  0.,  0.,  0.,  0.,  0.,  0.,  0.,  0.,  0.],\n",
       "        [ 0.,  0.,  0.,  0.,  0.,  0.,  0.,  0.,  0.,  0.],\n",
       "        [ 0.,  0.,  0.,  0.,  0.,  0.,  0.,  0.,  0.,  0.]],\n",
       "\n",
       "       [[ 0.,  0.,  0.,  0.,  0.,  0.,  0.,  0.,  0.,  0.],\n",
       "        [ 0.,  0.,  0.,  0.,  0.,  0.,  0.,  0.,  0.,  0.],\n",
       "        [ 0.,  0.,  0.,  0.,  0.,  0.,  0.,  0.,  0.,  0.],\n",
       "        [ 0.,  0.,  0.,  0.,  0.,  0.,  0.,  0.,  0.,  0.],\n",
       "        [ 0.,  0.,  0.,  0.,  0.,  0.,  0.,  0.,  0.,  0.],\n",
       "        [ 0.,  0.,  0.,  0.,  0.,  0.,  0.,  0.,  0.,  0.],\n",
       "        [ 0.,  0.,  0.,  0.,  0.,  0.,  0.,  0.,  0.,  0.],\n",
       "        [ 0.,  0.,  0.,  0.,  0.,  0.,  0.,  0.,  0.,  0.],\n",
       "        [ 0.,  0.,  0.,  0.,  0.,  0.,  0.,  0.,  0.,  0.],\n",
       "        [ 0.,  0.,  0.,  0.,  0.,  0.,  0.,  0.,  0.,  0.]]])"
      ]
     },
     "execution_count": 85,
     "metadata": {},
     "output_type": "execute_result"
    }
   ],
   "source": [
    "np.tensordot(rlp_np, CNP, axes=[1,2])-np.tensordot(rlp_np, CNP, axes=[[1],[2]])"
   ]
  },
  {
   "cell_type": "code",
   "execution_count": null,
   "metadata": {
    "collapsed": true
   },
   "outputs": [],
   "source": [
    "def tensordot(a, b, axes=2):\n",
    " if type(axes) in _numberTypes: \n",
    "    return dot(a.reshape_2d(a.ndim-axes), b.reshape_2d(axes)).reshape(a.shape[:a.ndim-axes] + b.shape[axes:])\n",
    " assert len(axes)==2 and len(axes[0])==len(axes[1]), 'the axes parameter to gnumpy.tensordot looks bad'\n",
    " aRemove, bRemove = (tuple(axes[0]), tuple(axes[1]))\n",
    " return tensordot(\n",
    "     a.transpose(filter(lambda x: x not in aRemove, tuple(xrange(a.ndim))) + aRemove),\n",
    "                  b.transpose(bRemove + filter(lambda x: x not in bRemove, tuple(xrange(b.ndim)))),\n",
    "                  len(aRemove))"
   ]
  }
 ],
 "metadata": {
  "kernelspec": {
   "display_name": "Python [conda env:py27]",
   "language": "python",
   "name": "conda-env-py27-py"
  },
  "language_info": {
   "codemirror_mode": {
    "name": "ipython",
    "version": 2
   },
   "file_extension": ".py",
   "mimetype": "text/x-python",
   "name": "python",
   "nbconvert_exporter": "python",
   "pygments_lexer": "ipython2",
   "version": "2.7.13"
  }
 },
 "nbformat": 4,
 "nbformat_minor": 2
}
